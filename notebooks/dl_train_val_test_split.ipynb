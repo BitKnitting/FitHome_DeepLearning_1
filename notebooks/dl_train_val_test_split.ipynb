{
  "nbformat": 4,
  "nbformat_minor": 0,
  "metadata": {
    "colab": {
      "name": "dl_train_val_test_split.ipynb",
      "provenance": [],
      "collapsed_sections": [],
      "include_colab_link": true
    },
    "kernelspec": {
      "name": "python3",
      "display_name": "Python 3"
    },
    "accelerator": "GPU"
  },
  "cells": [
    {
      "cell_type": "markdown",
      "metadata": {
        "id": "view-in-github",
        "colab_type": "text"
      },
      "source": [
        "<a href=\"https://colab.research.google.com/github/BitKnitting/FitHome_DeepLearning_1/blob/master/notebooks/dl_train_val_test_split.ipynb\" target=\"_parent\"><img src=\"https://colab.research.google.com/assets/colab-badge.svg\" alt=\"Open In Colab\"/></a>"
      ]
    },
    {
      "cell_type": "code",
      "metadata": {
        "id": "CzUfXqDHz3O_",
        "colab_type": "code",
        "colab": {}
      },
      "source": [
        ""
      ],
      "execution_count": 0,
      "outputs": []
    },
    {
      "cell_type": "markdown",
      "metadata": {
        "id": "io_KuQ6S0KBQ",
        "colab_type": "text"
      },
      "source": [
        "# Introduction\n",
        "We prepared the aggregated electricity readings and the column of 0s and 1s representing when the microwave was off or on in [this notebook](https://colab.research.google.com/github/BitKnitting/FitHome_DeepLearning_1/blob/master/notebooks/dl_process.ipynb).  Now that we have readied the data, it is time to get it into the shape that will be fed into the Keras Deep Learning Model.\n",
        "## Data Shape\n",
        "We will be following the data shape used in a [previous notebook](https://colab.research.google.com/github/BitKnitting/transfer_nilm_exploration/blob/master/ExploreNILM_1.ipynb)\n",
        "- windows of 100 readings in time series order are fed into the model.\n",
        "- The first window includes the 1st - 100th readings.  The second window includes the 2nd - 101st readings.  I.E.: A 1-reading sliding window moves along the time series feeding the model 100 readings as it slides along.\n",
        "## Example \n",
        "What we need to create is an array of indexes into our data that will grab the right readings for the sliding window.  In the example below, the windowsize is 10 and the number of sample readings is 30.\n",
        "- `rows` : The first index in each row.  I.e.: the 1st window starts at the first reading.  The 2nd window at the 2nd reading, etc. i.e.: the rows are the start index of each window.  Given a windowsize of 10, there are 21 windows of readings that can be fed into the model.\n",
        "- `cols` : Each value in the column is an index into the readings.\n",
        "- `indexer` : The array of indexes sets us up to easily pull the readings out as a 1-reading sliding window of readings."
      ]
    },
    {
      "cell_type": "code",
      "metadata": {
        "id": "4_yTahf524gE",
        "colab_type": "code",
        "colab": {
          "base_uri": "https://localhost:8080/",
          "height": 989
        },
        "outputId": "04397607-d0b0-4cfb-ddac-2f7355fa1bd2"
      },
      "source": [
        "import numpy as np\n",
        "# @title Simple Indexer example\n",
        "windowsize = 10\n",
        "numberreadings = 30\n",
        "# Let's set up the rows first.\n",
        "# the number of rows =  numberreadings - windowsize + 1\n",
        "rows = np.arange(numberreadings-windowsize+1)\n",
        "print('******************* ROWS *****************************')\n",
        "# Now let's get this 1D vector into a 2D Vector:\n",
        "rows = rows.reshape(-1,1)\n",
        "display(rows)\n",
        "print(f'\\nShape: {rows.shape}')\n",
        "# Onto the columns\n",
        "print('\\n******************* COLS *****************************')\n",
        "cols = np.arange(windowsize)\n",
        "cols = cols.reshape(1,-1)\n",
        "display(cols)\n",
        "print(f'\\nShape: {cols.shape}')\n",
        "# Add these two vectors together\n",
        "indexer = rows + cols\n",
        "print('\\n***************** INDEXER ***************************')\n",
        "display(indexer)\n",
        "print(f'\\nShape: {indexer.shape}')\n"
      ],
      "execution_count": 9,
      "outputs": [
        {
          "output_type": "stream",
          "text": [
            "******************* ROWS *****************************\n"
          ],
          "name": "stdout"
        },
        {
          "output_type": "display_data",
          "data": {
            "text/plain": [
              "array([[ 0],\n",
              "       [ 1],\n",
              "       [ 2],\n",
              "       [ 3],\n",
              "       [ 4],\n",
              "       [ 5],\n",
              "       [ 6],\n",
              "       [ 7],\n",
              "       [ 8],\n",
              "       [ 9],\n",
              "       [10],\n",
              "       [11],\n",
              "       [12],\n",
              "       [13],\n",
              "       [14],\n",
              "       [15],\n",
              "       [16],\n",
              "       [17],\n",
              "       [18],\n",
              "       [19],\n",
              "       [20]])"
            ]
          },
          "metadata": {
            "tags": []
          }
        },
        {
          "output_type": "stream",
          "text": [
            "\n",
            "Shape: (21, 1)\n",
            "\n",
            "******************* COLS *****************************\n"
          ],
          "name": "stdout"
        },
        {
          "output_type": "display_data",
          "data": {
            "text/plain": [
              "array([[0, 1, 2, 3, 4, 5, 6, 7, 8, 9]])"
            ]
          },
          "metadata": {
            "tags": []
          }
        },
        {
          "output_type": "stream",
          "text": [
            "\n",
            "Shape: (1, 10)\n",
            "\n",
            "***************** INDEXER ***************************\n"
          ],
          "name": "stdout"
        },
        {
          "output_type": "display_data",
          "data": {
            "text/plain": [
              "array([[ 0,  1,  2,  3,  4,  5,  6,  7,  8,  9],\n",
              "       [ 1,  2,  3,  4,  5,  6,  7,  8,  9, 10],\n",
              "       [ 2,  3,  4,  5,  6,  7,  8,  9, 10, 11],\n",
              "       [ 3,  4,  5,  6,  7,  8,  9, 10, 11, 12],\n",
              "       [ 4,  5,  6,  7,  8,  9, 10, 11, 12, 13],\n",
              "       [ 5,  6,  7,  8,  9, 10, 11, 12, 13, 14],\n",
              "       [ 6,  7,  8,  9, 10, 11, 12, 13, 14, 15],\n",
              "       [ 7,  8,  9, 10, 11, 12, 13, 14, 15, 16],\n",
              "       [ 8,  9, 10, 11, 12, 13, 14, 15, 16, 17],\n",
              "       [ 9, 10, 11, 12, 13, 14, 15, 16, 17, 18],\n",
              "       [10, 11, 12, 13, 14, 15, 16, 17, 18, 19],\n",
              "       [11, 12, 13, 14, 15, 16, 17, 18, 19, 20],\n",
              "       [12, 13, 14, 15, 16, 17, 18, 19, 20, 21],\n",
              "       [13, 14, 15, 16, 17, 18, 19, 20, 21, 22],\n",
              "       [14, 15, 16, 17, 18, 19, 20, 21, 22, 23],\n",
              "       [15, 16, 17, 18, 19, 20, 21, 22, 23, 24],\n",
              "       [16, 17, 18, 19, 20, 21, 22, 23, 24, 25],\n",
              "       [17, 18, 19, 20, 21, 22, 23, 24, 25, 26],\n",
              "       [18, 19, 20, 21, 22, 23, 24, 25, 26, 27],\n",
              "       [19, 20, 21, 22, 23, 24, 25, 26, 27, 28],\n",
              "       [20, 21, 22, 23, 24, 25, 26, 27, 28, 29]])"
            ]
          },
          "metadata": {
            "tags": []
          }
        },
        {
          "output_type": "stream",
          "text": [
            "\n",
            "Shape: (21, 10)\n"
          ],
          "name": "stdout"
        }
      ]
    },
    {
      "cell_type": "markdown",
      "metadata": {
        "id": "U5Sr67J03lAc",
        "colab_type": "text"
      },
      "source": [
        "we have 21 windows of readings.  Each window includes windowsize (10) readings.  Each window slides the start/end of the readings one reading over until all readings are included within a window."
      ]
    }
  ]
}